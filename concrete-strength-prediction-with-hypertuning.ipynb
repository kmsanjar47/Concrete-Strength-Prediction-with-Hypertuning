{
 "cells": [
  {
   "cell_type": "code",
   "execution_count": 1,
   "id": "52bc7fa0",
   "metadata": {
    "execution": {
     "iopub.execute_input": "2024-02-15T14:38:05.590985Z",
     "iopub.status.busy": "2024-02-15T14:38:05.590458Z",
     "iopub.status.idle": "2024-02-15T14:38:07.956118Z",
     "shell.execute_reply": "2024-02-15T14:38:07.955246Z"
    },
    "papermill": {
     "duration": 2.379965,
     "end_time": "2024-02-15T14:38:07.958397",
     "exception": false,
     "start_time": "2024-02-15T14:38:05.578432",
     "status": "completed"
    },
    "tags": []
   },
   "outputs": [],
   "source": [
    "import pandas as pd\n",
    "import numpy as np\n",
    "import matplotlib.pyplot as plt\n",
    "import seaborn as sns\n",
    "import warnings\n",
    "import plotly.express as px\n",
    "warnings.filterwarnings('ignore')"
   ]
  },
  {
   "cell_type": "code",
   "execution_count": 2,
   "id": "3a0e7fa6",
   "metadata": {
    "execution": {
     "iopub.execute_input": "2024-02-15T14:38:07.980570Z",
     "iopub.status.busy": "2024-02-15T14:38:07.979716Z",
     "iopub.status.idle": "2024-02-15T14:38:08.175298Z",
     "shell.execute_reply": "2024-02-15T14:38:08.174449Z"
    },
    "papermill": {
     "duration": 0.209058,
     "end_time": "2024-02-15T14:38:08.177400",
     "exception": false,
     "start_time": "2024-02-15T14:38:07.968342",
     "status": "completed"
    },
    "tags": []
   },
   "outputs": [],
   "source": [
    "data = pd.read_csv(\"https://raw.githubusercontent.com/rashakil-ds/Public-Datasets/main/concrete.csv\")"
   ]
  },
  {
   "cell_type": "code",
   "execution_count": 3,
   "id": "c3b38af9",
   "metadata": {
    "execution": {
     "iopub.execute_input": "2024-02-15T14:38:08.198508Z",
     "iopub.status.busy": "2024-02-15T14:38:08.198136Z",
     "iopub.status.idle": "2024-02-15T14:38:08.217694Z",
     "shell.execute_reply": "2024-02-15T14:38:08.216861Z"
    },
    "papermill": {
     "duration": 0.031809,
     "end_time": "2024-02-15T14:38:08.219267",
     "exception": false,
     "start_time": "2024-02-15T14:38:08.187458",
     "status": "completed"
    },
    "tags": []
   },
   "outputs": [
    {
     "data": {
      "text/html": [
       "<div>\n",
       "<style scoped>\n",
       "    .dataframe tbody tr th:only-of-type {\n",
       "        vertical-align: middle;\n",
       "    }\n",
       "\n",
       "    .dataframe tbody tr th {\n",
       "        vertical-align: top;\n",
       "    }\n",
       "\n",
       "    .dataframe thead th {\n",
       "        text-align: right;\n",
       "    }\n",
       "</style>\n",
       "<table border=\"1\" class=\"dataframe\">\n",
       "  <thead>\n",
       "    <tr style=\"text-align: right;\">\n",
       "      <th></th>\n",
       "      <th>Cement (component 1)(kg in a m^3 mixture)</th>\n",
       "      <th>Blast Furnace Slag (component 2)(kg in a m^3 mixture)</th>\n",
       "      <th>Fly Ash (component 3)(kg in a m^3 mixture)</th>\n",
       "      <th>Water  (component 4)(kg in a m^3 mixture)</th>\n",
       "      <th>Superplasticizer (component 5)(kg in a m^3 mixture)</th>\n",
       "      <th>Coarse Aggregate  (component 6)(kg in a m^3 mixture)</th>\n",
       "      <th>Fine Aggregate (component 7)(kg in a m^3 mixture)</th>\n",
       "      <th>Age (day)</th>\n",
       "      <th>strength</th>\n",
       "    </tr>\n",
       "  </thead>\n",
       "  <tbody>\n",
       "    <tr>\n",
       "      <th>0</th>\n",
       "      <td>540.0</td>\n",
       "      <td>0.0</td>\n",
       "      <td>0.0</td>\n",
       "      <td>162.0</td>\n",
       "      <td>2.5</td>\n",
       "      <td>1040.0</td>\n",
       "      <td>676.0</td>\n",
       "      <td>28</td>\n",
       "      <td>79.99</td>\n",
       "    </tr>\n",
       "    <tr>\n",
       "      <th>1</th>\n",
       "      <td>540.0</td>\n",
       "      <td>0.0</td>\n",
       "      <td>0.0</td>\n",
       "      <td>162.0</td>\n",
       "      <td>2.5</td>\n",
       "      <td>1055.0</td>\n",
       "      <td>676.0</td>\n",
       "      <td>28</td>\n",
       "      <td>61.89</td>\n",
       "    </tr>\n",
       "    <tr>\n",
       "      <th>2</th>\n",
       "      <td>332.5</td>\n",
       "      <td>142.5</td>\n",
       "      <td>0.0</td>\n",
       "      <td>228.0</td>\n",
       "      <td>0.0</td>\n",
       "      <td>932.0</td>\n",
       "      <td>594.0</td>\n",
       "      <td>270</td>\n",
       "      <td>40.27</td>\n",
       "    </tr>\n",
       "    <tr>\n",
       "      <th>3</th>\n",
       "      <td>332.5</td>\n",
       "      <td>142.5</td>\n",
       "      <td>0.0</td>\n",
       "      <td>228.0</td>\n",
       "      <td>0.0</td>\n",
       "      <td>932.0</td>\n",
       "      <td>594.0</td>\n",
       "      <td>365</td>\n",
       "      <td>41.05</td>\n",
       "    </tr>\n",
       "    <tr>\n",
       "      <th>4</th>\n",
       "      <td>198.6</td>\n",
       "      <td>132.4</td>\n",
       "      <td>0.0</td>\n",
       "      <td>192.0</td>\n",
       "      <td>0.0</td>\n",
       "      <td>978.4</td>\n",
       "      <td>825.5</td>\n",
       "      <td>360</td>\n",
       "      <td>44.30</td>\n",
       "    </tr>\n",
       "  </tbody>\n",
       "</table>\n",
       "</div>"
      ],
      "text/plain": [
       "   Cement (component 1)(kg in a m^3 mixture)  \\\n",
       "0                                      540.0   \n",
       "1                                      540.0   \n",
       "2                                      332.5   \n",
       "3                                      332.5   \n",
       "4                                      198.6   \n",
       "\n",
       "   Blast Furnace Slag (component 2)(kg in a m^3 mixture)  \\\n",
       "0                                                0.0       \n",
       "1                                                0.0       \n",
       "2                                              142.5       \n",
       "3                                              142.5       \n",
       "4                                              132.4       \n",
       "\n",
       "   Fly Ash (component 3)(kg in a m^3 mixture)  \\\n",
       "0                                         0.0   \n",
       "1                                         0.0   \n",
       "2                                         0.0   \n",
       "3                                         0.0   \n",
       "4                                         0.0   \n",
       "\n",
       "   Water  (component 4)(kg in a m^3 mixture)  \\\n",
       "0                                      162.0   \n",
       "1                                      162.0   \n",
       "2                                      228.0   \n",
       "3                                      228.0   \n",
       "4                                      192.0   \n",
       "\n",
       "   Superplasticizer (component 5)(kg in a m^3 mixture)  \\\n",
       "0                                                2.5     \n",
       "1                                                2.5     \n",
       "2                                                0.0     \n",
       "3                                                0.0     \n",
       "4                                                0.0     \n",
       "\n",
       "   Coarse Aggregate  (component 6)(kg in a m^3 mixture)  \\\n",
       "0                                             1040.0      \n",
       "1                                             1055.0      \n",
       "2                                              932.0      \n",
       "3                                              932.0      \n",
       "4                                              978.4      \n",
       "\n",
       "   Fine Aggregate (component 7)(kg in a m^3 mixture)  Age (day)  strength  \n",
       "0                                              676.0         28     79.99  \n",
       "1                                              676.0         28     61.89  \n",
       "2                                              594.0        270     40.27  \n",
       "3                                              594.0        365     41.05  \n",
       "4                                              825.5        360     44.30  "
      ]
     },
     "execution_count": 3,
     "metadata": {},
     "output_type": "execute_result"
    }
   ],
   "source": [
    "data.head(5)"
   ]
  },
  {
   "cell_type": "code",
   "execution_count": 4,
   "id": "1786d311",
   "metadata": {
    "execution": {
     "iopub.execute_input": "2024-02-15T14:38:08.240881Z",
     "iopub.status.busy": "2024-02-15T14:38:08.240479Z",
     "iopub.status.idle": "2024-02-15T14:38:08.244770Z",
     "shell.execute_reply": "2024-02-15T14:38:08.243602Z"
    },
    "papermill": {
     "duration": 0.017499,
     "end_time": "2024-02-15T14:38:08.246432",
     "exception": false,
     "start_time": "2024-02-15T14:38:08.228933",
     "status": "completed"
    },
    "tags": []
   },
   "outputs": [],
   "source": [
    "# Data Preprocessing"
   ]
  },
  {
   "cell_type": "code",
   "execution_count": 5,
   "id": "2ca7e146",
   "metadata": {
    "execution": {
     "iopub.execute_input": "2024-02-15T14:38:08.266483Z",
     "iopub.status.busy": "2024-02-15T14:38:08.266157Z",
     "iopub.status.idle": "2024-02-15T14:38:08.270276Z",
     "shell.execute_reply": "2024-02-15T14:38:08.268931Z"
    },
    "papermill": {
     "duration": 0.016841,
     "end_time": "2024-02-15T14:38:08.272633",
     "exception": false,
     "start_time": "2024-02-15T14:38:08.255792",
     "status": "completed"
    },
    "tags": []
   },
   "outputs": [],
   "source": [
    "## Null Values"
   ]
  },
  {
   "cell_type": "code",
   "execution_count": 6,
   "id": "c04332a1",
   "metadata": {
    "execution": {
     "iopub.execute_input": "2024-02-15T14:38:08.294066Z",
     "iopub.status.busy": "2024-02-15T14:38:08.293740Z",
     "iopub.status.idle": "2024-02-15T14:38:08.297604Z",
     "shell.execute_reply": "2024-02-15T14:38:08.296813Z"
    },
    "papermill": {
     "duration": 0.016536,
     "end_time": "2024-02-15T14:38:08.299307",
     "exception": false,
     "start_time": "2024-02-15T14:38:08.282771",
     "status": "completed"
    },
    "tags": []
   },
   "outputs": [],
   "source": [
    "df = data.copy()"
   ]
  },
  {
   "cell_type": "code",
   "execution_count": 7,
   "id": "72ae3390",
   "metadata": {
    "execution": {
     "iopub.execute_input": "2024-02-15T14:38:08.321253Z",
     "iopub.status.busy": "2024-02-15T14:38:08.320877Z",
     "iopub.status.idle": "2024-02-15T14:38:08.330437Z",
     "shell.execute_reply": "2024-02-15T14:38:08.329613Z"
    },
    "papermill": {
     "duration": 0.022584,
     "end_time": "2024-02-15T14:38:08.332142",
     "exception": false,
     "start_time": "2024-02-15T14:38:08.309558",
     "status": "completed"
    },
    "tags": []
   },
   "outputs": [
    {
     "data": {
      "text/plain": [
       "Cement (component 1)(kg in a m^3 mixture)                0\n",
       "Blast Furnace Slag (component 2)(kg in a m^3 mixture)    0\n",
       "Fly Ash (component 3)(kg in a m^3 mixture)               0\n",
       "Water  (component 4)(kg in a m^3 mixture)                0\n",
       "Superplasticizer (component 5)(kg in a m^3 mixture)      0\n",
       "Coarse Aggregate  (component 6)(kg in a m^3 mixture)     0\n",
       "Fine Aggregate (component 7)(kg in a m^3 mixture)        0\n",
       "Age (day)                                                0\n",
       "strength                                                 0\n",
       "dtype: int64"
      ]
     },
     "execution_count": 7,
     "metadata": {},
     "output_type": "execute_result"
    }
   ],
   "source": [
    "df.isna().sum()"
   ]
  },
  {
   "cell_type": "code",
   "execution_count": 8,
   "id": "d7fae5ac",
   "metadata": {
    "execution": {
     "iopub.execute_input": "2024-02-15T14:38:08.353135Z",
     "iopub.status.busy": "2024-02-15T14:38:08.352848Z",
     "iopub.status.idle": "2024-02-15T14:38:08.356278Z",
     "shell.execute_reply": "2024-02-15T14:38:08.355333Z"
    },
    "papermill": {
     "duration": 0.016357,
     "end_time": "2024-02-15T14:38:08.358282",
     "exception": false,
     "start_time": "2024-02-15T14:38:08.341925",
     "status": "completed"
    },
    "tags": []
   },
   "outputs": [],
   "source": [
    "## Duplicate Values"
   ]
  },
  {
   "cell_type": "code",
   "execution_count": 9,
   "id": "a1595b1c",
   "metadata": {
    "execution": {
     "iopub.execute_input": "2024-02-15T14:38:08.379577Z",
     "iopub.status.busy": "2024-02-15T14:38:08.379219Z",
     "iopub.status.idle": "2024-02-15T14:38:08.393801Z",
     "shell.execute_reply": "2024-02-15T14:38:08.392827Z"
    },
    "papermill": {
     "duration": 0.02757,
     "end_time": "2024-02-15T14:38:08.396078",
     "exception": false,
     "start_time": "2024-02-15T14:38:08.368508",
     "status": "completed"
    },
    "tags": []
   },
   "outputs": [
    {
     "data": {
      "text/plain": [
       "25"
      ]
     },
     "execution_count": 9,
     "metadata": {},
     "output_type": "execute_result"
    }
   ],
   "source": [
    "df.duplicated().sum()"
   ]
  },
  {
   "cell_type": "code",
   "execution_count": 10,
   "id": "78f2dadd",
   "metadata": {
    "execution": {
     "iopub.execute_input": "2024-02-15T14:38:08.418229Z",
     "iopub.status.busy": "2024-02-15T14:38:08.417701Z",
     "iopub.status.idle": "2024-02-15T14:38:08.427950Z",
     "shell.execute_reply": "2024-02-15T14:38:08.427057Z"
    },
    "papermill": {
     "duration": 0.023846,
     "end_time": "2024-02-15T14:38:08.430122",
     "exception": false,
     "start_time": "2024-02-15T14:38:08.406276",
     "status": "completed"
    },
    "tags": []
   },
   "outputs": [],
   "source": [
    "df.drop_duplicates(inplace = True)"
   ]
  },
  {
   "cell_type": "code",
   "execution_count": 11,
   "id": "6a2400c3",
   "metadata": {
    "execution": {
     "iopub.execute_input": "2024-02-15T14:38:08.451073Z",
     "iopub.status.busy": "2024-02-15T14:38:08.450737Z",
     "iopub.status.idle": "2024-02-15T14:38:08.458651Z",
     "shell.execute_reply": "2024-02-15T14:38:08.457973Z"
    },
    "papermill": {
     "duration": 0.020051,
     "end_time": "2024-02-15T14:38:08.460175",
     "exception": false,
     "start_time": "2024-02-15T14:38:08.440124",
     "status": "completed"
    },
    "tags": []
   },
   "outputs": [
    {
     "data": {
      "text/plain": [
       "0"
      ]
     },
     "execution_count": 11,
     "metadata": {},
     "output_type": "execute_result"
    }
   ],
   "source": [
    "df.duplicated().sum()"
   ]
  },
  {
   "cell_type": "code",
   "execution_count": 12,
   "id": "7cae15dd",
   "metadata": {
    "execution": {
     "iopub.execute_input": "2024-02-15T14:38:08.481111Z",
     "iopub.status.busy": "2024-02-15T14:38:08.480773Z",
     "iopub.status.idle": "2024-02-15T14:38:08.484798Z",
     "shell.execute_reply": "2024-02-15T14:38:08.483796Z"
    },
    "papermill": {
     "duration": 0.016637,
     "end_time": "2024-02-15T14:38:08.486575",
     "exception": false,
     "start_time": "2024-02-15T14:38:08.469938",
     "status": "completed"
    },
    "tags": []
   },
   "outputs": [],
   "source": [
    "## Scaling"
   ]
  },
  {
   "cell_type": "code",
   "execution_count": 13,
   "id": "23ea0e0f",
   "metadata": {
    "execution": {
     "iopub.execute_input": "2024-02-15T14:38:08.507434Z",
     "iopub.status.busy": "2024-02-15T14:38:08.507105Z",
     "iopub.status.idle": "2024-02-15T14:38:08.629433Z",
     "shell.execute_reply": "2024-02-15T14:38:08.628483Z"
    },
    "papermill": {
     "duration": 0.135094,
     "end_time": "2024-02-15T14:38:08.631490",
     "exception": false,
     "start_time": "2024-02-15T14:38:08.496396",
     "status": "completed"
    },
    "tags": []
   },
   "outputs": [],
   "source": [
    "from sklearn.preprocessing import MinMaxScaler"
   ]
  },
  {
   "cell_type": "code",
   "execution_count": 14,
   "id": "807762f9",
   "metadata": {
    "execution": {
     "iopub.execute_input": "2024-02-15T14:38:08.652697Z",
     "iopub.status.busy": "2024-02-15T14:38:08.652412Z",
     "iopub.status.idle": "2024-02-15T14:38:08.655822Z",
     "shell.execute_reply": "2024-02-15T14:38:08.655040Z"
    },
    "papermill": {
     "duration": 0.015967,
     "end_time": "2024-02-15T14:38:08.657417",
     "exception": false,
     "start_time": "2024-02-15T14:38:08.641450",
     "status": "completed"
    },
    "tags": []
   },
   "outputs": [],
   "source": [
    "scaler = MinMaxScaler()"
   ]
  },
  {
   "cell_type": "code",
   "execution_count": 15,
   "id": "452c420d",
   "metadata": {
    "execution": {
     "iopub.execute_input": "2024-02-15T14:38:08.678629Z",
     "iopub.status.busy": "2024-02-15T14:38:08.678100Z",
     "iopub.status.idle": "2024-02-15T14:38:08.684408Z",
     "shell.execute_reply": "2024-02-15T14:38:08.683694Z"
    },
    "papermill": {
     "duration": 0.018712,
     "end_time": "2024-02-15T14:38:08.685979",
     "exception": false,
     "start_time": "2024-02-15T14:38:08.667267",
     "status": "completed"
    },
    "tags": []
   },
   "outputs": [
    {
     "data": {
      "text/plain": [
       "Cement (component 1)(kg in a m^3 mixture)                float64\n",
       "Blast Furnace Slag (component 2)(kg in a m^3 mixture)    float64\n",
       "Fly Ash (component 3)(kg in a m^3 mixture)               float64\n",
       "Water  (component 4)(kg in a m^3 mixture)                float64\n",
       "Superplasticizer (component 5)(kg in a m^3 mixture)      float64\n",
       "Coarse Aggregate  (component 6)(kg in a m^3 mixture)     float64\n",
       "Fine Aggregate (component 7)(kg in a m^3 mixture)        float64\n",
       "Age (day)                                                  int64\n",
       "strength                                                 float64\n",
       "dtype: object"
      ]
     },
     "execution_count": 15,
     "metadata": {},
     "output_type": "execute_result"
    }
   ],
   "source": [
    "df.dtypes"
   ]
  },
  {
   "cell_type": "code",
   "execution_count": 16,
   "id": "320d76f3",
   "metadata": {
    "execution": {
     "iopub.execute_input": "2024-02-15T14:38:08.706996Z",
     "iopub.status.busy": "2024-02-15T14:38:08.706698Z",
     "iopub.status.idle": "2024-02-15T14:38:08.730377Z",
     "shell.execute_reply": "2024-02-15T14:38:08.729753Z"
    },
    "papermill": {
     "duration": 0.036415,
     "end_time": "2024-02-15T14:38:08.732137",
     "exception": false,
     "start_time": "2024-02-15T14:38:08.695722",
     "status": "completed"
    },
    "tags": []
   },
   "outputs": [],
   "source": [
    "for col_name in df.columns:\n",
    "    if col_name != \"strength\":\n",
    "        df[col_name] = scaler.fit_transform(df[[col_name]])"
   ]
  },
  {
   "cell_type": "code",
   "execution_count": 17,
   "id": "82a101f8",
   "metadata": {
    "execution": {
     "iopub.execute_input": "2024-02-15T14:38:08.754162Z",
     "iopub.status.busy": "2024-02-15T14:38:08.753646Z",
     "iopub.status.idle": "2024-02-15T14:38:08.766054Z",
     "shell.execute_reply": "2024-02-15T14:38:08.765246Z"
    },
    "papermill": {
     "duration": 0.025308,
     "end_time": "2024-02-15T14:38:08.767693",
     "exception": false,
     "start_time": "2024-02-15T14:38:08.742385",
     "status": "completed"
    },
    "tags": []
   },
   "outputs": [
    {
     "data": {
      "text/html": [
       "<div>\n",
       "<style scoped>\n",
       "    .dataframe tbody tr th:only-of-type {\n",
       "        vertical-align: middle;\n",
       "    }\n",
       "\n",
       "    .dataframe tbody tr th {\n",
       "        vertical-align: top;\n",
       "    }\n",
       "\n",
       "    .dataframe thead th {\n",
       "        text-align: right;\n",
       "    }\n",
       "</style>\n",
       "<table border=\"1\" class=\"dataframe\">\n",
       "  <thead>\n",
       "    <tr style=\"text-align: right;\">\n",
       "      <th></th>\n",
       "      <th>Cement (component 1)(kg in a m^3 mixture)</th>\n",
       "      <th>Blast Furnace Slag (component 2)(kg in a m^3 mixture)</th>\n",
       "      <th>Fly Ash (component 3)(kg in a m^3 mixture)</th>\n",
       "      <th>Water  (component 4)(kg in a m^3 mixture)</th>\n",
       "      <th>Superplasticizer (component 5)(kg in a m^3 mixture)</th>\n",
       "      <th>Coarse Aggregate  (component 6)(kg in a m^3 mixture)</th>\n",
       "      <th>Fine Aggregate (component 7)(kg in a m^3 mixture)</th>\n",
       "      <th>Age (day)</th>\n",
       "      <th>strength</th>\n",
       "    </tr>\n",
       "  </thead>\n",
       "  <tbody>\n",
       "    <tr>\n",
       "      <th>0</th>\n",
       "      <td>1.000000</td>\n",
       "      <td>0.000000</td>\n",
       "      <td>0.0</td>\n",
       "      <td>0.321086</td>\n",
       "      <td>0.07764</td>\n",
       "      <td>0.694767</td>\n",
       "      <td>0.205720</td>\n",
       "      <td>0.074176</td>\n",
       "      <td>79.99</td>\n",
       "    </tr>\n",
       "    <tr>\n",
       "      <th>1</th>\n",
       "      <td>1.000000</td>\n",
       "      <td>0.000000</td>\n",
       "      <td>0.0</td>\n",
       "      <td>0.321086</td>\n",
       "      <td>0.07764</td>\n",
       "      <td>0.738372</td>\n",
       "      <td>0.205720</td>\n",
       "      <td>0.074176</td>\n",
       "      <td>61.89</td>\n",
       "    </tr>\n",
       "    <tr>\n",
       "      <th>2</th>\n",
       "      <td>0.526256</td>\n",
       "      <td>0.396494</td>\n",
       "      <td>0.0</td>\n",
       "      <td>0.848243</td>\n",
       "      <td>0.00000</td>\n",
       "      <td>0.380814</td>\n",
       "      <td>0.000000</td>\n",
       "      <td>0.739011</td>\n",
       "      <td>40.27</td>\n",
       "    </tr>\n",
       "    <tr>\n",
       "      <th>3</th>\n",
       "      <td>0.526256</td>\n",
       "      <td>0.396494</td>\n",
       "      <td>0.0</td>\n",
       "      <td>0.848243</td>\n",
       "      <td>0.00000</td>\n",
       "      <td>0.380814</td>\n",
       "      <td>0.000000</td>\n",
       "      <td>1.000000</td>\n",
       "      <td>41.05</td>\n",
       "    </tr>\n",
       "    <tr>\n",
       "      <th>4</th>\n",
       "      <td>0.220548</td>\n",
       "      <td>0.368392</td>\n",
       "      <td>0.0</td>\n",
       "      <td>0.560703</td>\n",
       "      <td>0.00000</td>\n",
       "      <td>0.515698</td>\n",
       "      <td>0.580783</td>\n",
       "      <td>0.986264</td>\n",
       "      <td>44.30</td>\n",
       "    </tr>\n",
       "  </tbody>\n",
       "</table>\n",
       "</div>"
      ],
      "text/plain": [
       "   Cement (component 1)(kg in a m^3 mixture)  \\\n",
       "0                                   1.000000   \n",
       "1                                   1.000000   \n",
       "2                                   0.526256   \n",
       "3                                   0.526256   \n",
       "4                                   0.220548   \n",
       "\n",
       "   Blast Furnace Slag (component 2)(kg in a m^3 mixture)  \\\n",
       "0                                           0.000000       \n",
       "1                                           0.000000       \n",
       "2                                           0.396494       \n",
       "3                                           0.396494       \n",
       "4                                           0.368392       \n",
       "\n",
       "   Fly Ash (component 3)(kg in a m^3 mixture)  \\\n",
       "0                                         0.0   \n",
       "1                                         0.0   \n",
       "2                                         0.0   \n",
       "3                                         0.0   \n",
       "4                                         0.0   \n",
       "\n",
       "   Water  (component 4)(kg in a m^3 mixture)  \\\n",
       "0                                   0.321086   \n",
       "1                                   0.321086   \n",
       "2                                   0.848243   \n",
       "3                                   0.848243   \n",
       "4                                   0.560703   \n",
       "\n",
       "   Superplasticizer (component 5)(kg in a m^3 mixture)  \\\n",
       "0                                            0.07764     \n",
       "1                                            0.07764     \n",
       "2                                            0.00000     \n",
       "3                                            0.00000     \n",
       "4                                            0.00000     \n",
       "\n",
       "   Coarse Aggregate  (component 6)(kg in a m^3 mixture)  \\\n",
       "0                                           0.694767      \n",
       "1                                           0.738372      \n",
       "2                                           0.380814      \n",
       "3                                           0.380814      \n",
       "4                                           0.515698      \n",
       "\n",
       "   Fine Aggregate (component 7)(kg in a m^3 mixture)  Age (day)  strength  \n",
       "0                                           0.205720   0.074176     79.99  \n",
       "1                                           0.205720   0.074176     61.89  \n",
       "2                                           0.000000   0.739011     40.27  \n",
       "3                                           0.000000   1.000000     41.05  \n",
       "4                                           0.580783   0.986264     44.30  "
      ]
     },
     "execution_count": 17,
     "metadata": {},
     "output_type": "execute_result"
    }
   ],
   "source": [
    "df.head(5)"
   ]
  },
  {
   "cell_type": "code",
   "execution_count": 18,
   "id": "333cd63d",
   "metadata": {
    "execution": {
     "iopub.execute_input": "2024-02-15T14:38:08.788543Z",
     "iopub.status.busy": "2024-02-15T14:38:08.788303Z",
     "iopub.status.idle": "2024-02-15T14:38:08.791730Z",
     "shell.execute_reply": "2024-02-15T14:38:08.790899Z"
    },
    "papermill": {
     "duration": 0.015898,
     "end_time": "2024-02-15T14:38:08.793404",
     "exception": false,
     "start_time": "2024-02-15T14:38:08.777506",
     "status": "completed"
    },
    "tags": []
   },
   "outputs": [],
   "source": [
    "# Data Spliting"
   ]
  },
  {
   "cell_type": "code",
   "execution_count": 19,
   "id": "7b28e7cf",
   "metadata": {
    "execution": {
     "iopub.execute_input": "2024-02-15T14:38:08.814866Z",
     "iopub.status.busy": "2024-02-15T14:38:08.814562Z",
     "iopub.status.idle": "2024-02-15T14:38:08.905024Z",
     "shell.execute_reply": "2024-02-15T14:38:08.903947Z"
    },
    "papermill": {
     "duration": 0.103606,
     "end_time": "2024-02-15T14:38:08.906986",
     "exception": false,
     "start_time": "2024-02-15T14:38:08.803380",
     "status": "completed"
    },
    "tags": []
   },
   "outputs": [],
   "source": [
    "from sklearn.model_selection import train_test_split"
   ]
  },
  {
   "cell_type": "code",
   "execution_count": 20,
   "id": "a531ac88",
   "metadata": {
    "execution": {
     "iopub.execute_input": "2024-02-15T14:38:08.929717Z",
     "iopub.status.busy": "2024-02-15T14:38:08.929236Z",
     "iopub.status.idle": "2024-02-15T14:38:08.933351Z",
     "shell.execute_reply": "2024-02-15T14:38:08.932696Z"
    },
    "papermill": {
     "duration": 0.01763,
     "end_time": "2024-02-15T14:38:08.935486",
     "exception": false,
     "start_time": "2024-02-15T14:38:08.917856",
     "status": "completed"
    },
    "tags": []
   },
   "outputs": [],
   "source": [
    "X = df.drop(\"strength\",axis=1)"
   ]
  },
  {
   "cell_type": "code",
   "execution_count": 21,
   "id": "e9b2a8bb",
   "metadata": {
    "execution": {
     "iopub.execute_input": "2024-02-15T14:38:08.957842Z",
     "iopub.status.busy": "2024-02-15T14:38:08.957508Z",
     "iopub.status.idle": "2024-02-15T14:38:08.961936Z",
     "shell.execute_reply": "2024-02-15T14:38:08.960988Z"
    },
    "papermill": {
     "duration": 0.017479,
     "end_time": "2024-02-15T14:38:08.963740",
     "exception": false,
     "start_time": "2024-02-15T14:38:08.946261",
     "status": "completed"
    },
    "tags": []
   },
   "outputs": [],
   "source": [
    "y = df[\"strength\"]"
   ]
  },
  {
   "cell_type": "code",
   "execution_count": 22,
   "id": "0dc7104c",
   "metadata": {
    "execution": {
     "iopub.execute_input": "2024-02-15T14:38:08.986756Z",
     "iopub.status.busy": "2024-02-15T14:38:08.986435Z",
     "iopub.status.idle": "2024-02-15T14:38:08.992444Z",
     "shell.execute_reply": "2024-02-15T14:38:08.991711Z"
    },
    "papermill": {
     "duration": 0.019574,
     "end_time": "2024-02-15T14:38:08.994167",
     "exception": false,
     "start_time": "2024-02-15T14:38:08.974593",
     "status": "completed"
    },
    "tags": []
   },
   "outputs": [],
   "source": [
    "X_train, X_test, y_train, y_test = train_test_split(X, y, test_size=0.3, random_state=42)"
   ]
  },
  {
   "cell_type": "code",
   "execution_count": 23,
   "id": "830224e2",
   "metadata": {
    "execution": {
     "iopub.execute_input": "2024-02-15T14:38:09.064671Z",
     "iopub.status.busy": "2024-02-15T14:38:09.064350Z",
     "iopub.status.idle": "2024-02-15T14:38:09.067961Z",
     "shell.execute_reply": "2024-02-15T14:38:09.067153Z"
    },
    "papermill": {
     "duration": 0.016743,
     "end_time": "2024-02-15T14:38:09.069532",
     "exception": false,
     "start_time": "2024-02-15T14:38:09.052789",
     "status": "completed"
    },
    "tags": []
   },
   "outputs": [],
   "source": [
    "# Model Training"
   ]
  },
  {
   "cell_type": "code",
   "execution_count": 24,
   "id": "3ecd9cc5",
   "metadata": {
    "execution": {
     "iopub.execute_input": "2024-02-15T14:38:09.092300Z",
     "iopub.status.busy": "2024-02-15T14:38:09.091949Z",
     "iopub.status.idle": "2024-02-15T14:38:09.459950Z",
     "shell.execute_reply": "2024-02-15T14:38:09.459304Z"
    },
    "papermill": {
     "duration": 0.381515,
     "end_time": "2024-02-15T14:38:09.461975",
     "exception": false,
     "start_time": "2024-02-15T14:38:09.080460",
     "status": "completed"
    },
    "tags": []
   },
   "outputs": [],
   "source": [
    "from sklearn.linear_model import LinearRegression\n",
    "from sklearn.ensemble import RandomForestRegressor\n",
    "import xgboost as xgb\n",
    "from xgboost import XGBRegressor"
   ]
  },
  {
   "cell_type": "code",
   "execution_count": 25,
   "id": "101438b7",
   "metadata": {
    "execution": {
     "iopub.execute_input": "2024-02-15T14:38:09.484579Z",
     "iopub.status.busy": "2024-02-15T14:38:09.484255Z",
     "iopub.status.idle": "2024-02-15T14:38:09.488348Z",
     "shell.execute_reply": "2024-02-15T14:38:09.487504Z"
    },
    "papermill": {
     "duration": 0.017246,
     "end_time": "2024-02-15T14:38:09.489969",
     "exception": false,
     "start_time": "2024-02-15T14:38:09.472723",
     "status": "completed"
    },
    "tags": []
   },
   "outputs": [],
   "source": [
    "lr = LinearRegression()\n",
    "rfr = RandomForestRegressor()\n",
    "xgb = XGBRegressor()"
   ]
  },
  {
   "cell_type": "code",
   "execution_count": 26,
   "id": "afd1980d",
   "metadata": {
    "execution": {
     "iopub.execute_input": "2024-02-15T14:38:09.513507Z",
     "iopub.status.busy": "2024-02-15T14:38:09.513179Z",
     "iopub.status.idle": "2024-02-15T14:38:09.516876Z",
     "shell.execute_reply": "2024-02-15T14:38:09.516064Z"
    },
    "papermill": {
     "duration": 0.018099,
     "end_time": "2024-02-15T14:38:09.518529",
     "exception": false,
     "start_time": "2024-02-15T14:38:09.500430",
     "status": "completed"
    },
    "tags": []
   },
   "outputs": [],
   "source": [
    "## Fit"
   ]
  },
  {
   "cell_type": "code",
   "execution_count": 27,
   "id": "d0d42166",
   "metadata": {
    "execution": {
     "iopub.execute_input": "2024-02-15T14:38:09.543384Z",
     "iopub.status.busy": "2024-02-15T14:38:09.543076Z",
     "iopub.status.idle": "2024-02-15T14:38:09.567155Z",
     "shell.execute_reply": "2024-02-15T14:38:09.566356Z"
    },
    "papermill": {
     "duration": 0.03909,
     "end_time": "2024-02-15T14:38:09.568763",
     "exception": false,
     "start_time": "2024-02-15T14:38:09.529673",
     "status": "completed"
    },
    "tags": []
   },
   "outputs": [
    {
     "data": {
      "text/html": [
       "<style>#sk-container-id-1 {color: black;background-color: white;}#sk-container-id-1 pre{padding: 0;}#sk-container-id-1 div.sk-toggleable {background-color: white;}#sk-container-id-1 label.sk-toggleable__label {cursor: pointer;display: block;width: 100%;margin-bottom: 0;padding: 0.3em;box-sizing: border-box;text-align: center;}#sk-container-id-1 label.sk-toggleable__label-arrow:before {content: \"▸\";float: left;margin-right: 0.25em;color: #696969;}#sk-container-id-1 label.sk-toggleable__label-arrow:hover:before {color: black;}#sk-container-id-1 div.sk-estimator:hover label.sk-toggleable__label-arrow:before {color: black;}#sk-container-id-1 div.sk-toggleable__content {max-height: 0;max-width: 0;overflow: hidden;text-align: left;background-color: #f0f8ff;}#sk-container-id-1 div.sk-toggleable__content pre {margin: 0.2em;color: black;border-radius: 0.25em;background-color: #f0f8ff;}#sk-container-id-1 input.sk-toggleable__control:checked~div.sk-toggleable__content {max-height: 200px;max-width: 100%;overflow: auto;}#sk-container-id-1 input.sk-toggleable__control:checked~label.sk-toggleable__label-arrow:before {content: \"▾\";}#sk-container-id-1 div.sk-estimator input.sk-toggleable__control:checked~label.sk-toggleable__label {background-color: #d4ebff;}#sk-container-id-1 div.sk-label input.sk-toggleable__control:checked~label.sk-toggleable__label {background-color: #d4ebff;}#sk-container-id-1 input.sk-hidden--visually {border: 0;clip: rect(1px 1px 1px 1px);clip: rect(1px, 1px, 1px, 1px);height: 1px;margin: -1px;overflow: hidden;padding: 0;position: absolute;width: 1px;}#sk-container-id-1 div.sk-estimator {font-family: monospace;background-color: #f0f8ff;border: 1px dotted black;border-radius: 0.25em;box-sizing: border-box;margin-bottom: 0.5em;}#sk-container-id-1 div.sk-estimator:hover {background-color: #d4ebff;}#sk-container-id-1 div.sk-parallel-item::after {content: \"\";width: 100%;border-bottom: 1px solid gray;flex-grow: 1;}#sk-container-id-1 div.sk-label:hover label.sk-toggleable__label {background-color: #d4ebff;}#sk-container-id-1 div.sk-serial::before {content: \"\";position: absolute;border-left: 1px solid gray;box-sizing: border-box;top: 0;bottom: 0;left: 50%;z-index: 0;}#sk-container-id-1 div.sk-serial {display: flex;flex-direction: column;align-items: center;background-color: white;padding-right: 0.2em;padding-left: 0.2em;position: relative;}#sk-container-id-1 div.sk-item {position: relative;z-index: 1;}#sk-container-id-1 div.sk-parallel {display: flex;align-items: stretch;justify-content: center;background-color: white;position: relative;}#sk-container-id-1 div.sk-item::before, #sk-container-id-1 div.sk-parallel-item::before {content: \"\";position: absolute;border-left: 1px solid gray;box-sizing: border-box;top: 0;bottom: 0;left: 50%;z-index: -1;}#sk-container-id-1 div.sk-parallel-item {display: flex;flex-direction: column;z-index: 1;position: relative;background-color: white;}#sk-container-id-1 div.sk-parallel-item:first-child::after {align-self: flex-end;width: 50%;}#sk-container-id-1 div.sk-parallel-item:last-child::after {align-self: flex-start;width: 50%;}#sk-container-id-1 div.sk-parallel-item:only-child::after {width: 0;}#sk-container-id-1 div.sk-dashed-wrapped {border: 1px dashed gray;margin: 0 0.4em 0.5em 0.4em;box-sizing: border-box;padding-bottom: 0.4em;background-color: white;}#sk-container-id-1 div.sk-label label {font-family: monospace;font-weight: bold;display: inline-block;line-height: 1.2em;}#sk-container-id-1 div.sk-label-container {text-align: center;}#sk-container-id-1 div.sk-container {/* jupyter's `normalize.less` sets `[hidden] { display: none; }` but bootstrap.min.css set `[hidden] { display: none !important; }` so we also need the `!important` here to be able to override the default hidden behavior on the sphinx rendered scikit-learn.org. See: https://github.com/scikit-learn/scikit-learn/issues/21755 */display: inline-block !important;position: relative;}#sk-container-id-1 div.sk-text-repr-fallback {display: none;}</style><div id=\"sk-container-id-1\" class=\"sk-top-container\"><div class=\"sk-text-repr-fallback\"><pre>LinearRegression()</pre><b>In a Jupyter environment, please rerun this cell to show the HTML representation or trust the notebook. <br />On GitHub, the HTML representation is unable to render, please try loading this page with nbviewer.org.</b></div><div class=\"sk-container\" hidden><div class=\"sk-item\"><div class=\"sk-estimator sk-toggleable\"><input class=\"sk-toggleable__control sk-hidden--visually\" id=\"sk-estimator-id-1\" type=\"checkbox\" checked><label for=\"sk-estimator-id-1\" class=\"sk-toggleable__label sk-toggleable__label-arrow\">LinearRegression</label><div class=\"sk-toggleable__content\"><pre>LinearRegression()</pre></div></div></div></div></div>"
      ],
      "text/plain": [
       "LinearRegression()"
      ]
     },
     "execution_count": 27,
     "metadata": {},
     "output_type": "execute_result"
    }
   ],
   "source": [
    "lr.fit(X_train,y_train)"
   ]
  },
  {
   "cell_type": "code",
   "execution_count": 28,
   "id": "ed7de448",
   "metadata": {
    "execution": {
     "iopub.execute_input": "2024-02-15T14:38:09.591644Z",
     "iopub.status.busy": "2024-02-15T14:38:09.590944Z",
     "iopub.status.idle": "2024-02-15T14:38:09.895151Z",
     "shell.execute_reply": "2024-02-15T14:38:09.894497Z"
    },
    "papermill": {
     "duration": 0.317243,
     "end_time": "2024-02-15T14:38:09.896744",
     "exception": false,
     "start_time": "2024-02-15T14:38:09.579501",
     "status": "completed"
    },
    "tags": []
   },
   "outputs": [
    {
     "data": {
      "text/html": [
       "<style>#sk-container-id-2 {color: black;background-color: white;}#sk-container-id-2 pre{padding: 0;}#sk-container-id-2 div.sk-toggleable {background-color: white;}#sk-container-id-2 label.sk-toggleable__label {cursor: pointer;display: block;width: 100%;margin-bottom: 0;padding: 0.3em;box-sizing: border-box;text-align: center;}#sk-container-id-2 label.sk-toggleable__label-arrow:before {content: \"▸\";float: left;margin-right: 0.25em;color: #696969;}#sk-container-id-2 label.sk-toggleable__label-arrow:hover:before {color: black;}#sk-container-id-2 div.sk-estimator:hover label.sk-toggleable__label-arrow:before {color: black;}#sk-container-id-2 div.sk-toggleable__content {max-height: 0;max-width: 0;overflow: hidden;text-align: left;background-color: #f0f8ff;}#sk-container-id-2 div.sk-toggleable__content pre {margin: 0.2em;color: black;border-radius: 0.25em;background-color: #f0f8ff;}#sk-container-id-2 input.sk-toggleable__control:checked~div.sk-toggleable__content {max-height: 200px;max-width: 100%;overflow: auto;}#sk-container-id-2 input.sk-toggleable__control:checked~label.sk-toggleable__label-arrow:before {content: \"▾\";}#sk-container-id-2 div.sk-estimator input.sk-toggleable__control:checked~label.sk-toggleable__label {background-color: #d4ebff;}#sk-container-id-2 div.sk-label input.sk-toggleable__control:checked~label.sk-toggleable__label {background-color: #d4ebff;}#sk-container-id-2 input.sk-hidden--visually {border: 0;clip: rect(1px 1px 1px 1px);clip: rect(1px, 1px, 1px, 1px);height: 1px;margin: -1px;overflow: hidden;padding: 0;position: absolute;width: 1px;}#sk-container-id-2 div.sk-estimator {font-family: monospace;background-color: #f0f8ff;border: 1px dotted black;border-radius: 0.25em;box-sizing: border-box;margin-bottom: 0.5em;}#sk-container-id-2 div.sk-estimator:hover {background-color: #d4ebff;}#sk-container-id-2 div.sk-parallel-item::after {content: \"\";width: 100%;border-bottom: 1px solid gray;flex-grow: 1;}#sk-container-id-2 div.sk-label:hover label.sk-toggleable__label {background-color: #d4ebff;}#sk-container-id-2 div.sk-serial::before {content: \"\";position: absolute;border-left: 1px solid gray;box-sizing: border-box;top: 0;bottom: 0;left: 50%;z-index: 0;}#sk-container-id-2 div.sk-serial {display: flex;flex-direction: column;align-items: center;background-color: white;padding-right: 0.2em;padding-left: 0.2em;position: relative;}#sk-container-id-2 div.sk-item {position: relative;z-index: 1;}#sk-container-id-2 div.sk-parallel {display: flex;align-items: stretch;justify-content: center;background-color: white;position: relative;}#sk-container-id-2 div.sk-item::before, #sk-container-id-2 div.sk-parallel-item::before {content: \"\";position: absolute;border-left: 1px solid gray;box-sizing: border-box;top: 0;bottom: 0;left: 50%;z-index: -1;}#sk-container-id-2 div.sk-parallel-item {display: flex;flex-direction: column;z-index: 1;position: relative;background-color: white;}#sk-container-id-2 div.sk-parallel-item:first-child::after {align-self: flex-end;width: 50%;}#sk-container-id-2 div.sk-parallel-item:last-child::after {align-self: flex-start;width: 50%;}#sk-container-id-2 div.sk-parallel-item:only-child::after {width: 0;}#sk-container-id-2 div.sk-dashed-wrapped {border: 1px dashed gray;margin: 0 0.4em 0.5em 0.4em;box-sizing: border-box;padding-bottom: 0.4em;background-color: white;}#sk-container-id-2 div.sk-label label {font-family: monospace;font-weight: bold;display: inline-block;line-height: 1.2em;}#sk-container-id-2 div.sk-label-container {text-align: center;}#sk-container-id-2 div.sk-container {/* jupyter's `normalize.less` sets `[hidden] { display: none; }` but bootstrap.min.css set `[hidden] { display: none !important; }` so we also need the `!important` here to be able to override the default hidden behavior on the sphinx rendered scikit-learn.org. See: https://github.com/scikit-learn/scikit-learn/issues/21755 */display: inline-block !important;position: relative;}#sk-container-id-2 div.sk-text-repr-fallback {display: none;}</style><div id=\"sk-container-id-2\" class=\"sk-top-container\"><div class=\"sk-text-repr-fallback\"><pre>RandomForestRegressor()</pre><b>In a Jupyter environment, please rerun this cell to show the HTML representation or trust the notebook. <br />On GitHub, the HTML representation is unable to render, please try loading this page with nbviewer.org.</b></div><div class=\"sk-container\" hidden><div class=\"sk-item\"><div class=\"sk-estimator sk-toggleable\"><input class=\"sk-toggleable__control sk-hidden--visually\" id=\"sk-estimator-id-2\" type=\"checkbox\" checked><label for=\"sk-estimator-id-2\" class=\"sk-toggleable__label sk-toggleable__label-arrow\">RandomForestRegressor</label><div class=\"sk-toggleable__content\"><pre>RandomForestRegressor()</pre></div></div></div></div></div>"
      ],
      "text/plain": [
       "RandomForestRegressor()"
      ]
     },
     "execution_count": 28,
     "metadata": {},
     "output_type": "execute_result"
    }
   ],
   "source": [
    "rfr.fit(X_train,y_train)"
   ]
  },
  {
   "cell_type": "code",
   "execution_count": 29,
   "id": "71c52121",
   "metadata": {
    "execution": {
     "iopub.execute_input": "2024-02-15T14:38:09.919955Z",
     "iopub.status.busy": "2024-02-15T14:38:09.919257Z",
     "iopub.status.idle": "2024-02-15T14:38:10.048235Z",
     "shell.execute_reply": "2024-02-15T14:38:10.047264Z"
    },
    "papermill": {
     "duration": 0.142689,
     "end_time": "2024-02-15T14:38:10.050368",
     "exception": false,
     "start_time": "2024-02-15T14:38:09.907679",
     "status": "completed"
    },
    "tags": []
   },
   "outputs": [
    {
     "data": {
      "text/html": [
       "<style>#sk-container-id-3 {color: black;background-color: white;}#sk-container-id-3 pre{padding: 0;}#sk-container-id-3 div.sk-toggleable {background-color: white;}#sk-container-id-3 label.sk-toggleable__label {cursor: pointer;display: block;width: 100%;margin-bottom: 0;padding: 0.3em;box-sizing: border-box;text-align: center;}#sk-container-id-3 label.sk-toggleable__label-arrow:before {content: \"▸\";float: left;margin-right: 0.25em;color: #696969;}#sk-container-id-3 label.sk-toggleable__label-arrow:hover:before {color: black;}#sk-container-id-3 div.sk-estimator:hover label.sk-toggleable__label-arrow:before {color: black;}#sk-container-id-3 div.sk-toggleable__content {max-height: 0;max-width: 0;overflow: hidden;text-align: left;background-color: #f0f8ff;}#sk-container-id-3 div.sk-toggleable__content pre {margin: 0.2em;color: black;border-radius: 0.25em;background-color: #f0f8ff;}#sk-container-id-3 input.sk-toggleable__control:checked~div.sk-toggleable__content {max-height: 200px;max-width: 100%;overflow: auto;}#sk-container-id-3 input.sk-toggleable__control:checked~label.sk-toggleable__label-arrow:before {content: \"▾\";}#sk-container-id-3 div.sk-estimator input.sk-toggleable__control:checked~label.sk-toggleable__label {background-color: #d4ebff;}#sk-container-id-3 div.sk-label input.sk-toggleable__control:checked~label.sk-toggleable__label {background-color: #d4ebff;}#sk-container-id-3 input.sk-hidden--visually {border: 0;clip: rect(1px 1px 1px 1px);clip: rect(1px, 1px, 1px, 1px);height: 1px;margin: -1px;overflow: hidden;padding: 0;position: absolute;width: 1px;}#sk-container-id-3 div.sk-estimator {font-family: monospace;background-color: #f0f8ff;border: 1px dotted black;border-radius: 0.25em;box-sizing: border-box;margin-bottom: 0.5em;}#sk-container-id-3 div.sk-estimator:hover {background-color: #d4ebff;}#sk-container-id-3 div.sk-parallel-item::after {content: \"\";width: 100%;border-bottom: 1px solid gray;flex-grow: 1;}#sk-container-id-3 div.sk-label:hover label.sk-toggleable__label {background-color: #d4ebff;}#sk-container-id-3 div.sk-serial::before {content: \"\";position: absolute;border-left: 1px solid gray;box-sizing: border-box;top: 0;bottom: 0;left: 50%;z-index: 0;}#sk-container-id-3 div.sk-serial {display: flex;flex-direction: column;align-items: center;background-color: white;padding-right: 0.2em;padding-left: 0.2em;position: relative;}#sk-container-id-3 div.sk-item {position: relative;z-index: 1;}#sk-container-id-3 div.sk-parallel {display: flex;align-items: stretch;justify-content: center;background-color: white;position: relative;}#sk-container-id-3 div.sk-item::before, #sk-container-id-3 div.sk-parallel-item::before {content: \"\";position: absolute;border-left: 1px solid gray;box-sizing: border-box;top: 0;bottom: 0;left: 50%;z-index: -1;}#sk-container-id-3 div.sk-parallel-item {display: flex;flex-direction: column;z-index: 1;position: relative;background-color: white;}#sk-container-id-3 div.sk-parallel-item:first-child::after {align-self: flex-end;width: 50%;}#sk-container-id-3 div.sk-parallel-item:last-child::after {align-self: flex-start;width: 50%;}#sk-container-id-3 div.sk-parallel-item:only-child::after {width: 0;}#sk-container-id-3 div.sk-dashed-wrapped {border: 1px dashed gray;margin: 0 0.4em 0.5em 0.4em;box-sizing: border-box;padding-bottom: 0.4em;background-color: white;}#sk-container-id-3 div.sk-label label {font-family: monospace;font-weight: bold;display: inline-block;line-height: 1.2em;}#sk-container-id-3 div.sk-label-container {text-align: center;}#sk-container-id-3 div.sk-container {/* jupyter's `normalize.less` sets `[hidden] { display: none; }` but bootstrap.min.css set `[hidden] { display: none !important; }` so we also need the `!important` here to be able to override the default hidden behavior on the sphinx rendered scikit-learn.org. See: https://github.com/scikit-learn/scikit-learn/issues/21755 */display: inline-block !important;position: relative;}#sk-container-id-3 div.sk-text-repr-fallback {display: none;}</style><div id=\"sk-container-id-3\" class=\"sk-top-container\"><div class=\"sk-text-repr-fallback\"><pre>XGBRegressor(base_score=None, booster=None, callbacks=None,\n",
       "             colsample_bylevel=None, colsample_bynode=None,\n",
       "             colsample_bytree=None, device=None, early_stopping_rounds=None,\n",
       "             enable_categorical=False, eval_metric=None, feature_types=None,\n",
       "             gamma=None, grow_policy=None, importance_type=None,\n",
       "             interaction_constraints=None, learning_rate=None, max_bin=None,\n",
       "             max_cat_threshold=None, max_cat_to_onehot=None,\n",
       "             max_delta_step=None, max_depth=None, max_leaves=None,\n",
       "             min_child_weight=None, missing=nan, monotone_constraints=None,\n",
       "             multi_strategy=None, n_estimators=None, n_jobs=None,\n",
       "             num_parallel_tree=None, random_state=None, ...)</pre><b>In a Jupyter environment, please rerun this cell to show the HTML representation or trust the notebook. <br />On GitHub, the HTML representation is unable to render, please try loading this page with nbviewer.org.</b></div><div class=\"sk-container\" hidden><div class=\"sk-item\"><div class=\"sk-estimator sk-toggleable\"><input class=\"sk-toggleable__control sk-hidden--visually\" id=\"sk-estimator-id-3\" type=\"checkbox\" checked><label for=\"sk-estimator-id-3\" class=\"sk-toggleable__label sk-toggleable__label-arrow\">XGBRegressor</label><div class=\"sk-toggleable__content\"><pre>XGBRegressor(base_score=None, booster=None, callbacks=None,\n",
       "             colsample_bylevel=None, colsample_bynode=None,\n",
       "             colsample_bytree=None, device=None, early_stopping_rounds=None,\n",
       "             enable_categorical=False, eval_metric=None, feature_types=None,\n",
       "             gamma=None, grow_policy=None, importance_type=None,\n",
       "             interaction_constraints=None, learning_rate=None, max_bin=None,\n",
       "             max_cat_threshold=None, max_cat_to_onehot=None,\n",
       "             max_delta_step=None, max_depth=None, max_leaves=None,\n",
       "             min_child_weight=None, missing=nan, monotone_constraints=None,\n",
       "             multi_strategy=None, n_estimators=None, n_jobs=None,\n",
       "             num_parallel_tree=None, random_state=None, ...)</pre></div></div></div></div></div>"
      ],
      "text/plain": [
       "XGBRegressor(base_score=None, booster=None, callbacks=None,\n",
       "             colsample_bylevel=None, colsample_bynode=None,\n",
       "             colsample_bytree=None, device=None, early_stopping_rounds=None,\n",
       "             enable_categorical=False, eval_metric=None, feature_types=None,\n",
       "             gamma=None, grow_policy=None, importance_type=None,\n",
       "             interaction_constraints=None, learning_rate=None, max_bin=None,\n",
       "             max_cat_threshold=None, max_cat_to_onehot=None,\n",
       "             max_delta_step=None, max_depth=None, max_leaves=None,\n",
       "             min_child_weight=None, missing=nan, monotone_constraints=None,\n",
       "             multi_strategy=None, n_estimators=None, n_jobs=None,\n",
       "             num_parallel_tree=None, random_state=None, ...)"
      ]
     },
     "execution_count": 29,
     "metadata": {},
     "output_type": "execute_result"
    }
   ],
   "source": [
    "xgb.fit(X_train,y_train)"
   ]
  },
  {
   "cell_type": "code",
   "execution_count": 30,
   "id": "8a03ed3f",
   "metadata": {
    "execution": {
     "iopub.execute_input": "2024-02-15T14:38:10.074761Z",
     "iopub.status.busy": "2024-02-15T14:38:10.074461Z",
     "iopub.status.idle": "2024-02-15T14:38:10.077945Z",
     "shell.execute_reply": "2024-02-15T14:38:10.077354Z"
    },
    "papermill": {
     "duration": 0.017889,
     "end_time": "2024-02-15T14:38:10.079706",
     "exception": false,
     "start_time": "2024-02-15T14:38:10.061817",
     "status": "completed"
    },
    "tags": []
   },
   "outputs": [],
   "source": [
    "## predict"
   ]
  },
  {
   "cell_type": "code",
   "execution_count": 31,
   "id": "2f42e202",
   "metadata": {
    "execution": {
     "iopub.execute_input": "2024-02-15T14:38:10.104468Z",
     "iopub.status.busy": "2024-02-15T14:38:10.103440Z",
     "iopub.status.idle": "2024-02-15T14:38:10.110227Z",
     "shell.execute_reply": "2024-02-15T14:38:10.109366Z"
    },
    "papermill": {
     "duration": 0.020859,
     "end_time": "2024-02-15T14:38:10.112129",
     "exception": false,
     "start_time": "2024-02-15T14:38:10.091270",
     "status": "completed"
    },
    "tags": []
   },
   "outputs": [],
   "source": [
    "predicted_lr_train = lr.predict(X_train)"
   ]
  },
  {
   "cell_type": "code",
   "execution_count": 32,
   "id": "908f2750",
   "metadata": {
    "execution": {
     "iopub.execute_input": "2024-02-15T14:38:10.135143Z",
     "iopub.status.busy": "2024-02-15T14:38:10.134777Z",
     "iopub.status.idle": "2024-02-15T14:38:10.141466Z",
     "shell.execute_reply": "2024-02-15T14:38:10.140462Z"
    },
    "papermill": {
     "duration": 0.020419,
     "end_time": "2024-02-15T14:38:10.143469",
     "exception": false,
     "start_time": "2024-02-15T14:38:10.123050",
     "status": "completed"
    },
    "tags": []
   },
   "outputs": [],
   "source": [
    "predicted_lr_test = lr.predict(X_test)"
   ]
  },
  {
   "cell_type": "code",
   "execution_count": 33,
   "id": "12624964",
   "metadata": {
    "execution": {
     "iopub.execute_input": "2024-02-15T14:38:10.168111Z",
     "iopub.status.busy": "2024-02-15T14:38:10.167213Z",
     "iopub.status.idle": "2024-02-15T14:38:10.185298Z",
     "shell.execute_reply": "2024-02-15T14:38:10.183963Z"
    },
    "papermill": {
     "duration": 0.032734,
     "end_time": "2024-02-15T14:38:10.187623",
     "exception": false,
     "start_time": "2024-02-15T14:38:10.154889",
     "status": "completed"
    },
    "tags": []
   },
   "outputs": [],
   "source": [
    "predicted_rfr_train = rfr.predict(X_train)"
   ]
  },
  {
   "cell_type": "code",
   "execution_count": 34,
   "id": "f27d16c3",
   "metadata": {
    "execution": {
     "iopub.execute_input": "2024-02-15T14:38:10.211327Z",
     "iopub.status.busy": "2024-02-15T14:38:10.210798Z",
     "iopub.status.idle": "2024-02-15T14:38:10.223781Z",
     "shell.execute_reply": "2024-02-15T14:38:10.222770Z"
    },
    "papermill": {
     "duration": 0.027133,
     "end_time": "2024-02-15T14:38:10.225891",
     "exception": false,
     "start_time": "2024-02-15T14:38:10.198758",
     "status": "completed"
    },
    "tags": []
   },
   "outputs": [],
   "source": [
    "predicted_rfr_test = rfr.predict(X_test)"
   ]
  },
  {
   "cell_type": "code",
   "execution_count": 35,
   "id": "78b821cd",
   "metadata": {
    "execution": {
     "iopub.execute_input": "2024-02-15T14:38:10.249475Z",
     "iopub.status.busy": "2024-02-15T14:38:10.248926Z",
     "iopub.status.idle": "2024-02-15T14:38:10.259290Z",
     "shell.execute_reply": "2024-02-15T14:38:10.258559Z"
    },
    "papermill": {
     "duration": 0.024631,
     "end_time": "2024-02-15T14:38:10.261603",
     "exception": false,
     "start_time": "2024-02-15T14:38:10.236972",
     "status": "completed"
    },
    "tags": []
   },
   "outputs": [],
   "source": [
    "predicted_xgb_train = xgb.predict(X_train)"
   ]
  },
  {
   "cell_type": "code",
   "execution_count": 36,
   "id": "fddb39b8",
   "metadata": {
    "execution": {
     "iopub.execute_input": "2024-02-15T14:38:10.285382Z",
     "iopub.status.busy": "2024-02-15T14:38:10.284967Z",
     "iopub.status.idle": "2024-02-15T14:38:10.292870Z",
     "shell.execute_reply": "2024-02-15T14:38:10.292173Z"
    },
    "papermill": {
     "duration": 0.023454,
     "end_time": "2024-02-15T14:38:10.296521",
     "exception": false,
     "start_time": "2024-02-15T14:38:10.273067",
     "status": "completed"
    },
    "tags": []
   },
   "outputs": [],
   "source": [
    "predicted_xgb_test = xgb.predict(X_test)"
   ]
  },
  {
   "cell_type": "code",
   "execution_count": 37,
   "id": "76b8afe0",
   "metadata": {
    "execution": {
     "iopub.execute_input": "2024-02-15T14:38:10.319936Z",
     "iopub.status.busy": "2024-02-15T14:38:10.319610Z",
     "iopub.status.idle": "2024-02-15T14:38:10.323045Z",
     "shell.execute_reply": "2024-02-15T14:38:10.322377Z"
    },
    "papermill": {
     "duration": 0.017388,
     "end_time": "2024-02-15T14:38:10.325076",
     "exception": false,
     "start_time": "2024-02-15T14:38:10.307688",
     "status": "completed"
    },
    "tags": []
   },
   "outputs": [],
   "source": [
    "## Evaluation"
   ]
  },
  {
   "cell_type": "code",
   "execution_count": 38,
   "id": "96f50e2a",
   "metadata": {
    "execution": {
     "iopub.execute_input": "2024-02-15T14:38:10.348434Z",
     "iopub.status.busy": "2024-02-15T14:38:10.348086Z",
     "iopub.status.idle": "2024-02-15T14:38:10.352240Z",
     "shell.execute_reply": "2024-02-15T14:38:10.350864Z"
    },
    "papermill": {
     "duration": 0.018109,
     "end_time": "2024-02-15T14:38:10.354440",
     "exception": false,
     "start_time": "2024-02-15T14:38:10.336331",
     "status": "completed"
    },
    "tags": []
   },
   "outputs": [],
   "source": [
    "from sklearn.metrics import mean_absolute_error, mean_squared_error, r2_score"
   ]
  },
  {
   "cell_type": "code",
   "execution_count": 39,
   "id": "7f7a6507",
   "metadata": {
    "execution": {
     "iopub.execute_input": "2024-02-15T14:38:10.378217Z",
     "iopub.status.busy": "2024-02-15T14:38:10.377671Z",
     "iopub.status.idle": "2024-02-15T14:38:10.384776Z",
     "shell.execute_reply": "2024-02-15T14:38:10.383867Z"
    },
    "papermill": {
     "duration": 0.020533,
     "end_time": "2024-02-15T14:38:10.386325",
     "exception": false,
     "start_time": "2024-02-15T14:38:10.365792",
     "status": "completed"
    },
    "tags": []
   },
   "outputs": [
    {
     "name": "stdout",
     "output_type": "stream",
     "text": [
      "Mean Absolute Error (MAE): 8.984068581174695\n",
      "Mean Squared Error (MSE): 126.20929107403164\n",
      "Root Mean Squared Error (RMSE): 11.234290857639019\n",
      "R-squared (R2) score: 0.560915111117331\n"
     ]
    }
   ],
   "source": [
    "# Mean Absolute Error (MAE)\n",
    "mae = mean_absolute_error(y_test, predicted_lr_test)\n",
    "print(f'Mean Absolute Error (MAE): {mae}')\n",
    "\n",
    "# Mean Squared Error (MSE)\n",
    "mse = mean_squared_error(y_test, predicted_lr_test)\n",
    "print(f'Mean Squared Error (MSE): {mse}')\n",
    "\n",
    "# Root Mean Squared Error (RMSE)\n",
    "rmse = np.sqrt(mse)\n",
    "print(f'Root Mean Squared Error (RMSE): {rmse}')\n",
    "\n",
    "# R-squared (R2) score\n",
    "r2 = r2_score(y_test, predicted_lr_test)\n",
    "print(f'R-squared (R2) score: {r2}')"
   ]
  },
  {
   "cell_type": "code",
   "execution_count": 40,
   "id": "f6c8ac70",
   "metadata": {
    "execution": {
     "iopub.execute_input": "2024-02-15T14:38:10.410005Z",
     "iopub.status.busy": "2024-02-15T14:38:10.409285Z",
     "iopub.status.idle": "2024-02-15T14:38:10.415988Z",
     "shell.execute_reply": "2024-02-15T14:38:10.415222Z"
    },
    "papermill": {
     "duration": 0.020466,
     "end_time": "2024-02-15T14:38:10.418106",
     "exception": false,
     "start_time": "2024-02-15T14:38:10.397640",
     "status": "completed"
    },
    "tags": []
   },
   "outputs": [
    {
     "name": "stdout",
     "output_type": "stream",
     "text": [
      "Mean Absolute Error (MAE): 3.829094409492275\n",
      "Mean Squared Error (MSE): 28.821520105856223\n",
      "Root Mean Squared Error (RMSE): 5.368567789071515\n",
      "R-squared (R2) score: 0.8997293000743798\n"
     ]
    }
   ],
   "source": [
    "# Mean Absolute Error (MAE)\n",
    "mae = mean_absolute_error(y_test, predicted_rfr_test)\n",
    "print(f'Mean Absolute Error (MAE): {mae}')\n",
    "\n",
    "# Mean Squared Error (MSE)\n",
    "mse = mean_squared_error(y_test, predicted_rfr_test)\n",
    "print(f'Mean Squared Error (MSE): {mse}')\n",
    "\n",
    "# Root Mean Squared Error (RMSE)\n",
    "rmse = np.sqrt(mse)\n",
    "print(f'Root Mean Squared Error (RMSE): {rmse}')\n",
    "\n",
    "# R-squared (R2) score\n",
    "r2 = r2_score(y_test, predicted_rfr_test)\n",
    "print(f'R-squared (R2) score: {r2}')"
   ]
  },
  {
   "cell_type": "code",
   "execution_count": 41,
   "id": "a671cbfb",
   "metadata": {
    "execution": {
     "iopub.execute_input": "2024-02-15T14:38:10.441743Z",
     "iopub.status.busy": "2024-02-15T14:38:10.441382Z",
     "iopub.status.idle": "2024-02-15T14:38:10.447987Z",
     "shell.execute_reply": "2024-02-15T14:38:10.447173Z"
    },
    "papermill": {
     "duration": 0.020255,
     "end_time": "2024-02-15T14:38:10.449673",
     "exception": false,
     "start_time": "2024-02-15T14:38:10.429418",
     "status": "completed"
    },
    "tags": []
   },
   "outputs": [
    {
     "name": "stdout",
     "output_type": "stream",
     "text": [
      "Mean Absolute Error (MAE): 3.1672845013725834\n",
      "Mean Squared Error (MSE): 23.230438446360438\n",
      "Root Mean Squared Error (RMSE): 4.819796515036754\n",
      "R-squared (R2) score: 0.9191807956679459\n"
     ]
    }
   ],
   "source": [
    "# Mean Absolute Error (MAE)\n",
    "mae = mean_absolute_error(y_test, predicted_xgb_test)\n",
    "print(f'Mean Absolute Error (MAE): {mae}')\n",
    "\n",
    "# Mean Squared Error (MSE)\n",
    "mse = mean_squared_error(y_test, predicted_xgb_test)\n",
    "print(f'Mean Squared Error (MSE): {mse}')\n",
    "\n",
    "# Root Mean Squared Error (RMSE)\n",
    "rmse = np.sqrt(mse)\n",
    "print(f'Root Mean Squared Error (RMSE): {rmse}')\n",
    "\n",
    "# R-squared (R2) score\n",
    "r2 = r2_score(y_test, predicted_xgb_test)\n",
    "print(f'R-squared (R2) score: {r2}')"
   ]
  },
  {
   "cell_type": "code",
   "execution_count": 42,
   "id": "09cb2c88",
   "metadata": {
    "execution": {
     "iopub.execute_input": "2024-02-15T14:38:10.473158Z",
     "iopub.status.busy": "2024-02-15T14:38:10.472665Z",
     "iopub.status.idle": "2024-02-15T14:38:10.476697Z",
     "shell.execute_reply": "2024-02-15T14:38:10.475694Z"
    },
    "papermill": {
     "duration": 0.018065,
     "end_time": "2024-02-15T14:38:10.478529",
     "exception": false,
     "start_time": "2024-02-15T14:38:10.460464",
     "status": "completed"
    },
    "tags": []
   },
   "outputs": [],
   "source": [
    "#HyperParameter Tuning"
   ]
  },
  {
   "cell_type": "code",
   "execution_count": 43,
   "id": "c69c5985",
   "metadata": {
    "execution": {
     "iopub.execute_input": "2024-02-15T14:38:10.502683Z",
     "iopub.status.busy": "2024-02-15T14:38:10.502344Z",
     "iopub.status.idle": "2024-02-15T14:38:10.506140Z",
     "shell.execute_reply": "2024-02-15T14:38:10.505406Z"
    },
    "papermill": {
     "duration": 0.017805,
     "end_time": "2024-02-15T14:38:10.507702",
     "exception": false,
     "start_time": "2024-02-15T14:38:10.489897",
     "status": "completed"
    },
    "tags": []
   },
   "outputs": [],
   "source": [
    "from sklearn.model_selection import GridSearchCV"
   ]
  },
  {
   "cell_type": "code",
   "execution_count": 44,
   "id": "666bcc57",
   "metadata": {
    "execution": {
     "iopub.execute_input": "2024-02-15T14:38:10.530794Z",
     "iopub.status.busy": "2024-02-15T14:38:10.529874Z",
     "iopub.status.idle": "2024-02-15T14:38:10.534887Z",
     "shell.execute_reply": "2024-02-15T14:38:10.533868Z"
    },
    "papermill": {
     "duration": 0.018445,
     "end_time": "2024-02-15T14:38:10.536734",
     "exception": false,
     "start_time": "2024-02-15T14:38:10.518289",
     "status": "completed"
    },
    "tags": []
   },
   "outputs": [],
   "source": [
    "param_grid = {\n",
    "    'n_estimators': [50, 100, 200],\n",
    "    'max_depth': [3, 5, 7],\n",
    "    'learning_rate': [0.01, 0.1, 0.2],\n",
    "}\n"
   ]
  },
  {
   "cell_type": "code",
   "execution_count": 45,
   "id": "990cf412",
   "metadata": {
    "execution": {
     "iopub.execute_input": "2024-02-15T14:38:10.559314Z",
     "iopub.status.busy": "2024-02-15T14:38:10.558963Z",
     "iopub.status.idle": "2024-02-15T14:38:23.737893Z",
     "shell.execute_reply": "2024-02-15T14:38:23.737112Z"
    },
    "papermill": {
     "duration": 13.192367,
     "end_time": "2024-02-15T14:38:23.739631",
     "exception": false,
     "start_time": "2024-02-15T14:38:10.547264",
     "status": "completed"
    },
    "tags": []
   },
   "outputs": [
    {
     "data": {
      "text/html": [
       "<style>#sk-container-id-4 {color: black;background-color: white;}#sk-container-id-4 pre{padding: 0;}#sk-container-id-4 div.sk-toggleable {background-color: white;}#sk-container-id-4 label.sk-toggleable__label {cursor: pointer;display: block;width: 100%;margin-bottom: 0;padding: 0.3em;box-sizing: border-box;text-align: center;}#sk-container-id-4 label.sk-toggleable__label-arrow:before {content: \"▸\";float: left;margin-right: 0.25em;color: #696969;}#sk-container-id-4 label.sk-toggleable__label-arrow:hover:before {color: black;}#sk-container-id-4 div.sk-estimator:hover label.sk-toggleable__label-arrow:before {color: black;}#sk-container-id-4 div.sk-toggleable__content {max-height: 0;max-width: 0;overflow: hidden;text-align: left;background-color: #f0f8ff;}#sk-container-id-4 div.sk-toggleable__content pre {margin: 0.2em;color: black;border-radius: 0.25em;background-color: #f0f8ff;}#sk-container-id-4 input.sk-toggleable__control:checked~div.sk-toggleable__content {max-height: 200px;max-width: 100%;overflow: auto;}#sk-container-id-4 input.sk-toggleable__control:checked~label.sk-toggleable__label-arrow:before {content: \"▾\";}#sk-container-id-4 div.sk-estimator input.sk-toggleable__control:checked~label.sk-toggleable__label {background-color: #d4ebff;}#sk-container-id-4 div.sk-label input.sk-toggleable__control:checked~label.sk-toggleable__label {background-color: #d4ebff;}#sk-container-id-4 input.sk-hidden--visually {border: 0;clip: rect(1px 1px 1px 1px);clip: rect(1px, 1px, 1px, 1px);height: 1px;margin: -1px;overflow: hidden;padding: 0;position: absolute;width: 1px;}#sk-container-id-4 div.sk-estimator {font-family: monospace;background-color: #f0f8ff;border: 1px dotted black;border-radius: 0.25em;box-sizing: border-box;margin-bottom: 0.5em;}#sk-container-id-4 div.sk-estimator:hover {background-color: #d4ebff;}#sk-container-id-4 div.sk-parallel-item::after {content: \"\";width: 100%;border-bottom: 1px solid gray;flex-grow: 1;}#sk-container-id-4 div.sk-label:hover label.sk-toggleable__label {background-color: #d4ebff;}#sk-container-id-4 div.sk-serial::before {content: \"\";position: absolute;border-left: 1px solid gray;box-sizing: border-box;top: 0;bottom: 0;left: 50%;z-index: 0;}#sk-container-id-4 div.sk-serial {display: flex;flex-direction: column;align-items: center;background-color: white;padding-right: 0.2em;padding-left: 0.2em;position: relative;}#sk-container-id-4 div.sk-item {position: relative;z-index: 1;}#sk-container-id-4 div.sk-parallel {display: flex;align-items: stretch;justify-content: center;background-color: white;position: relative;}#sk-container-id-4 div.sk-item::before, #sk-container-id-4 div.sk-parallel-item::before {content: \"\";position: absolute;border-left: 1px solid gray;box-sizing: border-box;top: 0;bottom: 0;left: 50%;z-index: -1;}#sk-container-id-4 div.sk-parallel-item {display: flex;flex-direction: column;z-index: 1;position: relative;background-color: white;}#sk-container-id-4 div.sk-parallel-item:first-child::after {align-self: flex-end;width: 50%;}#sk-container-id-4 div.sk-parallel-item:last-child::after {align-self: flex-start;width: 50%;}#sk-container-id-4 div.sk-parallel-item:only-child::after {width: 0;}#sk-container-id-4 div.sk-dashed-wrapped {border: 1px dashed gray;margin: 0 0.4em 0.5em 0.4em;box-sizing: border-box;padding-bottom: 0.4em;background-color: white;}#sk-container-id-4 div.sk-label label {font-family: monospace;font-weight: bold;display: inline-block;line-height: 1.2em;}#sk-container-id-4 div.sk-label-container {text-align: center;}#sk-container-id-4 div.sk-container {/* jupyter's `normalize.less` sets `[hidden] { display: none; }` but bootstrap.min.css set `[hidden] { display: none !important; }` so we also need the `!important` here to be able to override the default hidden behavior on the sphinx rendered scikit-learn.org. See: https://github.com/scikit-learn/scikit-learn/issues/21755 */display: inline-block !important;position: relative;}#sk-container-id-4 div.sk-text-repr-fallback {display: none;}</style><div id=\"sk-container-id-4\" class=\"sk-top-container\"><div class=\"sk-text-repr-fallback\"><pre>GridSearchCV(cv=5,\n",
       "             estimator=XGBRegressor(base_score=None, booster=None,\n",
       "                                    callbacks=None, colsample_bylevel=None,\n",
       "                                    colsample_bynode=None,\n",
       "                                    colsample_bytree=None, device=None,\n",
       "                                    early_stopping_rounds=None,\n",
       "                                    enable_categorical=False, eval_metric=None,\n",
       "                                    feature_types=None, gamma=None,\n",
       "                                    grow_policy=None, importance_type=None,\n",
       "                                    interaction_constraints=None,\n",
       "                                    learning_rate=None, m...\n",
       "                                    max_cat_threshold=None,\n",
       "                                    max_cat_to_onehot=None, max_delta_step=None,\n",
       "                                    max_depth=None, max_leaves=None,\n",
       "                                    min_child_weight=None, missing=nan,\n",
       "                                    monotone_constraints=None,\n",
       "                                    multi_strategy=None, n_estimators=None,\n",
       "                                    n_jobs=None, num_parallel_tree=None,\n",
       "                                    random_state=None, ...),\n",
       "             param_grid={&#x27;learning_rate&#x27;: [0.01, 0.1, 0.2],\n",
       "                         &#x27;max_depth&#x27;: [3, 5, 7],\n",
       "                         &#x27;n_estimators&#x27;: [50, 100, 200]},\n",
       "             scoring=&#x27;r2&#x27;)</pre><b>In a Jupyter environment, please rerun this cell to show the HTML representation or trust the notebook. <br />On GitHub, the HTML representation is unable to render, please try loading this page with nbviewer.org.</b></div><div class=\"sk-container\" hidden><div class=\"sk-item sk-dashed-wrapped\"><div class=\"sk-label-container\"><div class=\"sk-label sk-toggleable\"><input class=\"sk-toggleable__control sk-hidden--visually\" id=\"sk-estimator-id-4\" type=\"checkbox\" ><label for=\"sk-estimator-id-4\" class=\"sk-toggleable__label sk-toggleable__label-arrow\">GridSearchCV</label><div class=\"sk-toggleable__content\"><pre>GridSearchCV(cv=5,\n",
       "             estimator=XGBRegressor(base_score=None, booster=None,\n",
       "                                    callbacks=None, colsample_bylevel=None,\n",
       "                                    colsample_bynode=None,\n",
       "                                    colsample_bytree=None, device=None,\n",
       "                                    early_stopping_rounds=None,\n",
       "                                    enable_categorical=False, eval_metric=None,\n",
       "                                    feature_types=None, gamma=None,\n",
       "                                    grow_policy=None, importance_type=None,\n",
       "                                    interaction_constraints=None,\n",
       "                                    learning_rate=None, m...\n",
       "                                    max_cat_threshold=None,\n",
       "                                    max_cat_to_onehot=None, max_delta_step=None,\n",
       "                                    max_depth=None, max_leaves=None,\n",
       "                                    min_child_weight=None, missing=nan,\n",
       "                                    monotone_constraints=None,\n",
       "                                    multi_strategy=None, n_estimators=None,\n",
       "                                    n_jobs=None, num_parallel_tree=None,\n",
       "                                    random_state=None, ...),\n",
       "             param_grid={&#x27;learning_rate&#x27;: [0.01, 0.1, 0.2],\n",
       "                         &#x27;max_depth&#x27;: [3, 5, 7],\n",
       "                         &#x27;n_estimators&#x27;: [50, 100, 200]},\n",
       "             scoring=&#x27;r2&#x27;)</pre></div></div></div><div class=\"sk-parallel\"><div class=\"sk-parallel-item\"><div class=\"sk-item\"><div class=\"sk-label-container\"><div class=\"sk-label sk-toggleable\"><input class=\"sk-toggleable__control sk-hidden--visually\" id=\"sk-estimator-id-5\" type=\"checkbox\" ><label for=\"sk-estimator-id-5\" class=\"sk-toggleable__label sk-toggleable__label-arrow\">estimator: XGBRegressor</label><div class=\"sk-toggleable__content\"><pre>XGBRegressor(base_score=None, booster=None, callbacks=None,\n",
       "             colsample_bylevel=None, colsample_bynode=None,\n",
       "             colsample_bytree=None, device=None, early_stopping_rounds=None,\n",
       "             enable_categorical=False, eval_metric=None, feature_types=None,\n",
       "             gamma=None, grow_policy=None, importance_type=None,\n",
       "             interaction_constraints=None, learning_rate=None, max_bin=None,\n",
       "             max_cat_threshold=None, max_cat_to_onehot=None,\n",
       "             max_delta_step=None, max_depth=None, max_leaves=None,\n",
       "             min_child_weight=None, missing=nan, monotone_constraints=None,\n",
       "             multi_strategy=None, n_estimators=None, n_jobs=None,\n",
       "             num_parallel_tree=None, random_state=None, ...)</pre></div></div></div><div class=\"sk-serial\"><div class=\"sk-item\"><div class=\"sk-estimator sk-toggleable\"><input class=\"sk-toggleable__control sk-hidden--visually\" id=\"sk-estimator-id-6\" type=\"checkbox\" ><label for=\"sk-estimator-id-6\" class=\"sk-toggleable__label sk-toggleable__label-arrow\">XGBRegressor</label><div class=\"sk-toggleable__content\"><pre>XGBRegressor(base_score=None, booster=None, callbacks=None,\n",
       "             colsample_bylevel=None, colsample_bynode=None,\n",
       "             colsample_bytree=None, device=None, early_stopping_rounds=None,\n",
       "             enable_categorical=False, eval_metric=None, feature_types=None,\n",
       "             gamma=None, grow_policy=None, importance_type=None,\n",
       "             interaction_constraints=None, learning_rate=None, max_bin=None,\n",
       "             max_cat_threshold=None, max_cat_to_onehot=None,\n",
       "             max_delta_step=None, max_depth=None, max_leaves=None,\n",
       "             min_child_weight=None, missing=nan, monotone_constraints=None,\n",
       "             multi_strategy=None, n_estimators=None, n_jobs=None,\n",
       "             num_parallel_tree=None, random_state=None, ...)</pre></div></div></div></div></div></div></div></div></div></div>"
      ],
      "text/plain": [
       "GridSearchCV(cv=5,\n",
       "             estimator=XGBRegressor(base_score=None, booster=None,\n",
       "                                    callbacks=None, colsample_bylevel=None,\n",
       "                                    colsample_bynode=None,\n",
       "                                    colsample_bytree=None, device=None,\n",
       "                                    early_stopping_rounds=None,\n",
       "                                    enable_categorical=False, eval_metric=None,\n",
       "                                    feature_types=None, gamma=None,\n",
       "                                    grow_policy=None, importance_type=None,\n",
       "                                    interaction_constraints=None,\n",
       "                                    learning_rate=None, m...\n",
       "                                    max_cat_threshold=None,\n",
       "                                    max_cat_to_onehot=None, max_delta_step=None,\n",
       "                                    max_depth=None, max_leaves=None,\n",
       "                                    min_child_weight=None, missing=nan,\n",
       "                                    monotone_constraints=None,\n",
       "                                    multi_strategy=None, n_estimators=None,\n",
       "                                    n_jobs=None, num_parallel_tree=None,\n",
       "                                    random_state=None, ...),\n",
       "             param_grid={'learning_rate': [0.01, 0.1, 0.2],\n",
       "                         'max_depth': [3, 5, 7],\n",
       "                         'n_estimators': [50, 100, 200]},\n",
       "             scoring='r2')"
      ]
     },
     "execution_count": 45,
     "metadata": {},
     "output_type": "execute_result"
    }
   ],
   "source": [
    "grid_search = GridSearchCV(estimator=xgb, param_grid=param_grid, cv=5, scoring='r2')\n",
    "grid_search.fit(X_train, y_train)"
   ]
  },
  {
   "cell_type": "code",
   "execution_count": 46,
   "id": "e775f1aa",
   "metadata": {
    "execution": {
     "iopub.execute_input": "2024-02-15T14:38:23.763383Z",
     "iopub.status.busy": "2024-02-15T14:38:23.762548Z",
     "iopub.status.idle": "2024-02-15T14:38:23.767147Z",
     "shell.execute_reply": "2024-02-15T14:38:23.766233Z"
    },
    "papermill": {
     "duration": 0.018322,
     "end_time": "2024-02-15T14:38:23.769026",
     "exception": false,
     "start_time": "2024-02-15T14:38:23.750704",
     "status": "completed"
    },
    "tags": []
   },
   "outputs": [],
   "source": [
    "best_params = grid_search.best_params_"
   ]
  },
  {
   "cell_type": "code",
   "execution_count": 47,
   "id": "532f8c58",
   "metadata": {
    "execution": {
     "iopub.execute_input": "2024-02-15T14:38:23.794639Z",
     "iopub.status.busy": "2024-02-15T14:38:23.794022Z",
     "iopub.status.idle": "2024-02-15T14:38:23.797361Z",
     "shell.execute_reply": "2024-02-15T14:38:23.796806Z"
    },
    "papermill": {
     "duration": 0.01787,
     "end_time": "2024-02-15T14:38:23.798873",
     "exception": false,
     "start_time": "2024-02-15T14:38:23.781003",
     "status": "completed"
    },
    "tags": []
   },
   "outputs": [],
   "source": [
    "best_xgb_regressor = XGBRegressor(**best_params)"
   ]
  },
  {
   "cell_type": "code",
   "execution_count": 48,
   "id": "93729aa3",
   "metadata": {
    "execution": {
     "iopub.execute_input": "2024-02-15T14:38:23.824162Z",
     "iopub.status.busy": "2024-02-15T14:38:23.823393Z",
     "iopub.status.idle": "2024-02-15T14:38:23.957329Z",
     "shell.execute_reply": "2024-02-15T14:38:23.956503Z"
    },
    "papermill": {
     "duration": 0.147811,
     "end_time": "2024-02-15T14:38:23.959139",
     "exception": false,
     "start_time": "2024-02-15T14:38:23.811328",
     "status": "completed"
    },
    "tags": []
   },
   "outputs": [
    {
     "data": {
      "text/html": [
       "<style>#sk-container-id-5 {color: black;background-color: white;}#sk-container-id-5 pre{padding: 0;}#sk-container-id-5 div.sk-toggleable {background-color: white;}#sk-container-id-5 label.sk-toggleable__label {cursor: pointer;display: block;width: 100%;margin-bottom: 0;padding: 0.3em;box-sizing: border-box;text-align: center;}#sk-container-id-5 label.sk-toggleable__label-arrow:before {content: \"▸\";float: left;margin-right: 0.25em;color: #696969;}#sk-container-id-5 label.sk-toggleable__label-arrow:hover:before {color: black;}#sk-container-id-5 div.sk-estimator:hover label.sk-toggleable__label-arrow:before {color: black;}#sk-container-id-5 div.sk-toggleable__content {max-height: 0;max-width: 0;overflow: hidden;text-align: left;background-color: #f0f8ff;}#sk-container-id-5 div.sk-toggleable__content pre {margin: 0.2em;color: black;border-radius: 0.25em;background-color: #f0f8ff;}#sk-container-id-5 input.sk-toggleable__control:checked~div.sk-toggleable__content {max-height: 200px;max-width: 100%;overflow: auto;}#sk-container-id-5 input.sk-toggleable__control:checked~label.sk-toggleable__label-arrow:before {content: \"▾\";}#sk-container-id-5 div.sk-estimator input.sk-toggleable__control:checked~label.sk-toggleable__label {background-color: #d4ebff;}#sk-container-id-5 div.sk-label input.sk-toggleable__control:checked~label.sk-toggleable__label {background-color: #d4ebff;}#sk-container-id-5 input.sk-hidden--visually {border: 0;clip: rect(1px 1px 1px 1px);clip: rect(1px, 1px, 1px, 1px);height: 1px;margin: -1px;overflow: hidden;padding: 0;position: absolute;width: 1px;}#sk-container-id-5 div.sk-estimator {font-family: monospace;background-color: #f0f8ff;border: 1px dotted black;border-radius: 0.25em;box-sizing: border-box;margin-bottom: 0.5em;}#sk-container-id-5 div.sk-estimator:hover {background-color: #d4ebff;}#sk-container-id-5 div.sk-parallel-item::after {content: \"\";width: 100%;border-bottom: 1px solid gray;flex-grow: 1;}#sk-container-id-5 div.sk-label:hover label.sk-toggleable__label {background-color: #d4ebff;}#sk-container-id-5 div.sk-serial::before {content: \"\";position: absolute;border-left: 1px solid gray;box-sizing: border-box;top: 0;bottom: 0;left: 50%;z-index: 0;}#sk-container-id-5 div.sk-serial {display: flex;flex-direction: column;align-items: center;background-color: white;padding-right: 0.2em;padding-left: 0.2em;position: relative;}#sk-container-id-5 div.sk-item {position: relative;z-index: 1;}#sk-container-id-5 div.sk-parallel {display: flex;align-items: stretch;justify-content: center;background-color: white;position: relative;}#sk-container-id-5 div.sk-item::before, #sk-container-id-5 div.sk-parallel-item::before {content: \"\";position: absolute;border-left: 1px solid gray;box-sizing: border-box;top: 0;bottom: 0;left: 50%;z-index: -1;}#sk-container-id-5 div.sk-parallel-item {display: flex;flex-direction: column;z-index: 1;position: relative;background-color: white;}#sk-container-id-5 div.sk-parallel-item:first-child::after {align-self: flex-end;width: 50%;}#sk-container-id-5 div.sk-parallel-item:last-child::after {align-self: flex-start;width: 50%;}#sk-container-id-5 div.sk-parallel-item:only-child::after {width: 0;}#sk-container-id-5 div.sk-dashed-wrapped {border: 1px dashed gray;margin: 0 0.4em 0.5em 0.4em;box-sizing: border-box;padding-bottom: 0.4em;background-color: white;}#sk-container-id-5 div.sk-label label {font-family: monospace;font-weight: bold;display: inline-block;line-height: 1.2em;}#sk-container-id-5 div.sk-label-container {text-align: center;}#sk-container-id-5 div.sk-container {/* jupyter's `normalize.less` sets `[hidden] { display: none; }` but bootstrap.min.css set `[hidden] { display: none !important; }` so we also need the `!important` here to be able to override the default hidden behavior on the sphinx rendered scikit-learn.org. See: https://github.com/scikit-learn/scikit-learn/issues/21755 */display: inline-block !important;position: relative;}#sk-container-id-5 div.sk-text-repr-fallback {display: none;}</style><div id=\"sk-container-id-5\" class=\"sk-top-container\"><div class=\"sk-text-repr-fallback\"><pre>XGBRegressor(base_score=None, booster=None, callbacks=None,\n",
       "             colsample_bylevel=None, colsample_bynode=None,\n",
       "             colsample_bytree=None, device=None, early_stopping_rounds=None,\n",
       "             enable_categorical=False, eval_metric=None, feature_types=None,\n",
       "             gamma=None, grow_policy=None, importance_type=None,\n",
       "             interaction_constraints=None, learning_rate=0.2, max_bin=None,\n",
       "             max_cat_threshold=None, max_cat_to_onehot=None,\n",
       "             max_delta_step=None, max_depth=5, max_leaves=None,\n",
       "             min_child_weight=None, missing=nan, monotone_constraints=None,\n",
       "             multi_strategy=None, n_estimators=200, n_jobs=None,\n",
       "             num_parallel_tree=None, random_state=None, ...)</pre><b>In a Jupyter environment, please rerun this cell to show the HTML representation or trust the notebook. <br />On GitHub, the HTML representation is unable to render, please try loading this page with nbviewer.org.</b></div><div class=\"sk-container\" hidden><div class=\"sk-item\"><div class=\"sk-estimator sk-toggleable\"><input class=\"sk-toggleable__control sk-hidden--visually\" id=\"sk-estimator-id-7\" type=\"checkbox\" checked><label for=\"sk-estimator-id-7\" class=\"sk-toggleable__label sk-toggleable__label-arrow\">XGBRegressor</label><div class=\"sk-toggleable__content\"><pre>XGBRegressor(base_score=None, booster=None, callbacks=None,\n",
       "             colsample_bylevel=None, colsample_bynode=None,\n",
       "             colsample_bytree=None, device=None, early_stopping_rounds=None,\n",
       "             enable_categorical=False, eval_metric=None, feature_types=None,\n",
       "             gamma=None, grow_policy=None, importance_type=None,\n",
       "             interaction_constraints=None, learning_rate=0.2, max_bin=None,\n",
       "             max_cat_threshold=None, max_cat_to_onehot=None,\n",
       "             max_delta_step=None, max_depth=5, max_leaves=None,\n",
       "             min_child_weight=None, missing=nan, monotone_constraints=None,\n",
       "             multi_strategy=None, n_estimators=200, n_jobs=None,\n",
       "             num_parallel_tree=None, random_state=None, ...)</pre></div></div></div></div></div>"
      ],
      "text/plain": [
       "XGBRegressor(base_score=None, booster=None, callbacks=None,\n",
       "             colsample_bylevel=None, colsample_bynode=None,\n",
       "             colsample_bytree=None, device=None, early_stopping_rounds=None,\n",
       "             enable_categorical=False, eval_metric=None, feature_types=None,\n",
       "             gamma=None, grow_policy=None, importance_type=None,\n",
       "             interaction_constraints=None, learning_rate=0.2, max_bin=None,\n",
       "             max_cat_threshold=None, max_cat_to_onehot=None,\n",
       "             max_delta_step=None, max_depth=5, max_leaves=None,\n",
       "             min_child_weight=None, missing=nan, monotone_constraints=None,\n",
       "             multi_strategy=None, n_estimators=200, n_jobs=None,\n",
       "             num_parallel_tree=None, random_state=None, ...)"
      ]
     },
     "execution_count": 48,
     "metadata": {},
     "output_type": "execute_result"
    }
   ],
   "source": [
    "best_xgb_regressor.fit(X_train,y_train)"
   ]
  },
  {
   "cell_type": "code",
   "execution_count": 49,
   "id": "d74a68cd",
   "metadata": {
    "execution": {
     "iopub.execute_input": "2024-02-15T14:38:23.983162Z",
     "iopub.status.busy": "2024-02-15T14:38:23.982770Z",
     "iopub.status.idle": "2024-02-15T14:38:23.989328Z",
     "shell.execute_reply": "2024-02-15T14:38:23.988735Z"
    },
    "papermill": {
     "duration": 0.020324,
     "end_time": "2024-02-15T14:38:23.990982",
     "exception": false,
     "start_time": "2024-02-15T14:38:23.970658",
     "status": "completed"
    },
    "tags": []
   },
   "outputs": [],
   "source": [
    "predicted = best_xgb_regressor.predict(X_test)"
   ]
  },
  {
   "cell_type": "code",
   "execution_count": 50,
   "id": "d2f59c21",
   "metadata": {
    "execution": {
     "iopub.execute_input": "2024-02-15T14:38:24.014380Z",
     "iopub.status.busy": "2024-02-15T14:38:24.014109Z",
     "iopub.status.idle": "2024-02-15T14:38:24.021357Z",
     "shell.execute_reply": "2024-02-15T14:38:24.019786Z"
    },
    "papermill": {
     "duration": 0.021236,
     "end_time": "2024-02-15T14:38:24.023560",
     "exception": false,
     "start_time": "2024-02-15T14:38:24.002324",
     "status": "completed"
    },
    "tags": []
   },
   "outputs": [
    {
     "name": "stdout",
     "output_type": "stream",
     "text": [
      "Mean Absolute Error (MAE): 3.0564892466968256\n",
      "Mean Squared Error (MSE): 22.040202464981448\n",
      "Root Mean Squared Error (RMSE): 4.694699400918172\n",
      "R-squared (R2) score: 0.9233216527251445\n"
     ]
    }
   ],
   "source": [
    "# Mean Absolute Error (MAE)\n",
    "mae = mean_absolute_error(y_test, predicted)\n",
    "print(f'Mean Absolute Error (MAE): {mae}')\n",
    "\n",
    "# Mean Squared Error (MSE)\n",
    "mse = mean_squared_error(y_test, predicted)\n",
    "print(f'Mean Squared Error (MSE): {mse}')\n",
    "\n",
    "# Root Mean Squared Error (RMSE)\n",
    "rmse = np.sqrt(mse)\n",
    "print(f'Root Mean Squared Error (RMSE): {rmse}')\n",
    "\n",
    "# R-squared (R2) score\n",
    "r2 = r2_score(y_test, predicted)\n",
    "print(f'R-squared (R2) score: {r2}')"
   ]
  },
  {
   "cell_type": "code",
   "execution_count": 51,
   "id": "8b5b49ca",
   "metadata": {
    "execution": {
     "iopub.execute_input": "2024-02-15T14:38:24.048465Z",
     "iopub.status.busy": "2024-02-15T14:38:24.048083Z",
     "iopub.status.idle": "2024-02-15T14:38:24.052699Z",
     "shell.execute_reply": "2024-02-15T14:38:24.051713Z"
    },
    "papermill": {
     "duration": 0.019405,
     "end_time": "2024-02-15T14:38:24.054990",
     "exception": false,
     "start_time": "2024-02-15T14:38:24.035585",
     "status": "completed"
    },
    "tags": []
   },
   "outputs": [],
   "source": [
    "# Conclusion"
   ]
  }
 ],
 "metadata": {
  "kaggle": {
   "accelerator": "none",
   "dataSources": [
    {
     "datasetId": 4444481,
     "sourceId": 7628537,
     "sourceType": "datasetVersion"
    }
   ],
   "dockerImageVersionId": 30646,
   "isGpuEnabled": false,
   "isInternetEnabled": true,
   "language": "python",
   "sourceType": "notebook"
  },
  "kernelspec": {
   "display_name": "Python 3",
   "language": "python",
   "name": "python3"
  },
  "language_info": {
   "codemirror_mode": {
    "name": "ipython",
    "version": 3
   },
   "file_extension": ".py",
   "mimetype": "text/x-python",
   "name": "python",
   "nbconvert_exporter": "python",
   "pygments_lexer": "ipython3",
   "version": "3.10.13"
  },
  "papermill": {
   "default_parameters": {},
   "duration": 21.257068,
   "end_time": "2024-02-15T14:38:24.586643",
   "environment_variables": {},
   "exception": null,
   "input_path": "__notebook__.ipynb",
   "output_path": "__notebook__.ipynb",
   "parameters": {},
   "start_time": "2024-02-15T14:38:03.329575",
   "version": "2.5.0"
  }
 },
 "nbformat": 4,
 "nbformat_minor": 5
}
